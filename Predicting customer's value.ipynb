{
 "cells": [
  {
   "cell_type": "code",
   "execution_count": 2,
   "metadata": {},
   "outputs": [],
   "source": [
    "import numpy as np\n",
    "import pandas as pd\n",
    "import matplotlib.pyplot as plt"
   ]
  },
  {
   "cell_type": "markdown",
   "metadata": {},
   "source": [
    "# Data preprocessing"
   ]
  },
  {
   "cell_type": "code",
   "execution_count": 3,
   "metadata": {},
   "outputs": [],
   "source": [
    "import os"
   ]
  },
  {
   "cell_type": "code",
   "execution_count": 4,
   "metadata": {
    "scrolled": true
   },
   "outputs": [],
   "source": [
    "data = pd.DataFrame()\n",
    "for file in os.listdir('pltv_data/'):\n",
    "    if file != '.DS_Store':\n",
    "         data = pd.concat([data, pd.read_csv('pltv_data/' + file)])"
   ]
  },
  {
   "cell_type": "code",
   "execution_count": 5,
   "metadata": {},
   "outputs": [
    {
     "data": {
      "text/html": [
       "<div>\n",
       "<style scoped>\n",
       "    .dataframe tbody tr th:only-of-type {\n",
       "        vertical-align: middle;\n",
       "    }\n",
       "\n",
       "    .dataframe tbody tr th {\n",
       "        vertical-align: top;\n",
       "    }\n",
       "\n",
       "    .dataframe thead th {\n",
       "        text-align: right;\n",
       "    }\n",
       "</style>\n",
       "<table border=\"1\" class=\"dataframe\">\n",
       "  <thead>\n",
       "    <tr style=\"text-align: right;\">\n",
       "      <th></th>\n",
       "      <th>activity_kind</th>\n",
       "      <th>adid</th>\n",
       "      <th>city</th>\n",
       "      <th>created_at</th>\n",
       "      <th>device_manufacturer</th>\n",
       "      <th>event_name</th>\n",
       "      <th>language</th>\n",
       "      <th>os_name</th>\n",
       "      <th>os_version</th>\n",
       "      <th>revenue_usd_cents</th>\n",
       "    </tr>\n",
       "  </thead>\n",
       "  <tbody>\n",
       "    <tr>\n",
       "      <th>0</th>\n",
       "      <td>event</td>\n",
       "      <td>a410010d8f14b80deaf3fabd9ed13966</td>\n",
       "      <td>Dubai</td>\n",
       "      <td>1622737562</td>\n",
       "      <td>Apple</td>\n",
       "      <td>View vendor List</td>\n",
       "      <td>en</td>\n",
       "      <td>ios</td>\n",
       "      <td>14.4.2</td>\n",
       "      <td>NaN</td>\n",
       "    </tr>\n",
       "    <tr>\n",
       "      <th>1</th>\n",
       "      <td>event</td>\n",
       "      <td>25e2086aae280a8547fa47a2e23b45f2</td>\n",
       "      <td>Erbil</td>\n",
       "      <td>1622736728</td>\n",
       "      <td>Apple</td>\n",
       "      <td>View vendor List</td>\n",
       "      <td>en</td>\n",
       "      <td>ios</td>\n",
       "      <td>14.5.1</td>\n",
       "      <td>NaN</td>\n",
       "    </tr>\n",
       "    <tr>\n",
       "      <th>2</th>\n",
       "      <td>event</td>\n",
       "      <td>563c7d548e7046a3935c8e9df5a57107</td>\n",
       "      <td>Manama</td>\n",
       "      <td>1622736801</td>\n",
       "      <td>Apple</td>\n",
       "      <td>Launch</td>\n",
       "      <td>en</td>\n",
       "      <td>ios</td>\n",
       "      <td>14.4.2</td>\n",
       "      <td>NaN</td>\n",
       "    </tr>\n",
       "    <tr>\n",
       "      <th>3</th>\n",
       "      <td>event</td>\n",
       "      <td>f68155a8067a17deff22a5a29adf2725</td>\n",
       "      <td>Doha</td>\n",
       "      <td>1622737468</td>\n",
       "      <td>Apple</td>\n",
       "      <td>View vendor List</td>\n",
       "      <td>en</td>\n",
       "      <td>ios</td>\n",
       "      <td>14.4.2</td>\n",
       "      <td>NaN</td>\n",
       "    </tr>\n",
       "    <tr>\n",
       "      <th>4</th>\n",
       "      <td>session</td>\n",
       "      <td>09f5d37d46843503b8616b6286ad5771</td>\n",
       "      <td>Manama</td>\n",
       "      <td>1622738797</td>\n",
       "      <td>Apple</td>\n",
       "      <td>NaN</td>\n",
       "      <td>en</td>\n",
       "      <td>ios</td>\n",
       "      <td>14.4.2</td>\n",
       "      <td>NaN</td>\n",
       "    </tr>\n",
       "  </tbody>\n",
       "</table>\n",
       "</div>"
      ],
      "text/plain": [
       "  activity_kind                              adid    city  created_at  \\\n",
       "0         event  a410010d8f14b80deaf3fabd9ed13966   Dubai  1622737562   \n",
       "1         event  25e2086aae280a8547fa47a2e23b45f2   Erbil  1622736728   \n",
       "2         event  563c7d548e7046a3935c8e9df5a57107  Manama  1622736801   \n",
       "3         event  f68155a8067a17deff22a5a29adf2725    Doha  1622737468   \n",
       "4       session  09f5d37d46843503b8616b6286ad5771  Manama  1622738797   \n",
       "\n",
       "  device_manufacturer        event_name language os_name os_version  \\\n",
       "0               Apple  View vendor List       en     ios     14.4.2   \n",
       "1               Apple  View vendor List       en     ios     14.5.1   \n",
       "2               Apple            Launch       en     ios     14.4.2   \n",
       "3               Apple  View vendor List       en     ios     14.4.2   \n",
       "4               Apple               NaN       en     ios     14.4.2   \n",
       "\n",
       "   revenue_usd_cents  \n",
       "0                NaN  \n",
       "1                NaN  \n",
       "2                NaN  \n",
       "3                NaN  \n",
       "4                NaN  "
      ]
     },
     "execution_count": 5,
     "metadata": {},
     "output_type": "execute_result"
    }
   ],
   "source": [
    "data.head()"
   ]
  },
  {
   "cell_type": "code",
   "execution_count": 6,
   "metadata": {},
   "outputs": [
    {
     "data": {
      "text/plain": [
       "3123864"
      ]
     },
     "execution_count": 6,
     "metadata": {},
     "output_type": "execute_result"
    }
   ],
   "source": [
    "len(data)"
   ]
  },
  {
   "cell_type": "markdown",
   "metadata": {},
   "source": [
    "We have logs from Apr 5 2021 till Jun 7 2021:"
   ]
  },
  {
   "cell_type": "code",
   "execution_count": 7,
   "metadata": {
    "scrolled": true
   },
   "outputs": [
    {
     "data": {
      "text/plain": [
       "(1617640185, 1623110370)"
      ]
     },
     "execution_count": 7,
     "metadata": {},
     "output_type": "execute_result"
    }
   ],
   "source": [
    "data['created_at'].min(), data['created_at'].max()"
   ]
  },
  {
   "cell_type": "markdown",
   "metadata": {},
   "source": [
    "First of all, we don't need data about customers who had no events before June 3 2021 (because we don't know their day 5 user value)"
   ]
  },
  {
   "cell_type": "code",
   "execution_count": 8,
   "metadata": {},
   "outputs": [],
   "source": [
    "june_3 = 1622678400\n",
    "data = data.merge(pd.DataFrame(data[data['created_at'] < june_3]['adid']).drop_duplicates())"
   ]
  },
  {
   "cell_type": "markdown",
   "metadata": {},
   "source": [
    "Now for remaining customers let's use only first 5 days events"
   ]
  },
  {
   "cell_type": "code",
   "execution_count": 9,
   "metadata": {},
   "outputs": [],
   "source": [
    "data = data.merge(data.groupby('adid')['created_at'].min().reset_index().rename(columns={'created_at': 'first_activity_at'}))\n",
    "data['time'] = data['created_at'] - data['first_activity_at']\n",
    "data.drop(['created_at', 'first_activity_at'], axis=1, inplace=True)\n",
    "data = data[data['time'] <= 5 * 24 * 60 * 60]"
   ]
  },
  {
   "cell_type": "code",
   "execution_count": 10,
   "metadata": {
    "scrolled": true
   },
   "outputs": [
    {
     "data": {
      "text/html": [
       "<div>\n",
       "<style scoped>\n",
       "    .dataframe tbody tr th:only-of-type {\n",
       "        vertical-align: middle;\n",
       "    }\n",
       "\n",
       "    .dataframe tbody tr th {\n",
       "        vertical-align: top;\n",
       "    }\n",
       "\n",
       "    .dataframe thead th {\n",
       "        text-align: right;\n",
       "    }\n",
       "</style>\n",
       "<table border=\"1\" class=\"dataframe\">\n",
       "  <thead>\n",
       "    <tr style=\"text-align: right;\">\n",
       "      <th></th>\n",
       "      <th>activity_kind</th>\n",
       "      <th>adid</th>\n",
       "      <th>city</th>\n",
       "      <th>device_manufacturer</th>\n",
       "      <th>event_name</th>\n",
       "      <th>language</th>\n",
       "      <th>os_name</th>\n",
       "      <th>os_version</th>\n",
       "      <th>revenue_usd_cents</th>\n",
       "      <th>time</th>\n",
       "    </tr>\n",
       "  </thead>\n",
       "  <tbody>\n",
       "    <tr>\n",
       "      <th>0</th>\n",
       "      <td>event</td>\n",
       "      <td>563c7d548e7046a3935c8e9df5a57107</td>\n",
       "      <td>Manama</td>\n",
       "      <td>Apple</td>\n",
       "      <td>Launch</td>\n",
       "      <td>en</td>\n",
       "      <td>ios</td>\n",
       "      <td>14.4.2</td>\n",
       "      <td>NaN</td>\n",
       "      <td>181424</td>\n",
       "    </tr>\n",
       "    <tr>\n",
       "      <th>1</th>\n",
       "      <td>event</td>\n",
       "      <td>563c7d548e7046a3935c8e9df5a57107</td>\n",
       "      <td>Manama</td>\n",
       "      <td>Apple</td>\n",
       "      <td>View vendor List</td>\n",
       "      <td>en</td>\n",
       "      <td>ios</td>\n",
       "      <td>14.4.2</td>\n",
       "      <td>NaN</td>\n",
       "      <td>181454</td>\n",
       "    </tr>\n",
       "    <tr>\n",
       "      <th>2</th>\n",
       "      <td>event</td>\n",
       "      <td>563c7d548e7046a3935c8e9df5a57107</td>\n",
       "      <td>Manama</td>\n",
       "      <td>Apple</td>\n",
       "      <td>View vendor List</td>\n",
       "      <td>en</td>\n",
       "      <td>ios</td>\n",
       "      <td>14.4.2</td>\n",
       "      <td>NaN</td>\n",
       "      <td>181450</td>\n",
       "    </tr>\n",
       "    <tr>\n",
       "      <th>3</th>\n",
       "      <td>event</td>\n",
       "      <td>563c7d548e7046a3935c8e9df5a57107</td>\n",
       "      <td>Manama</td>\n",
       "      <td>Apple</td>\n",
       "      <td>Launch</td>\n",
       "      <td>en</td>\n",
       "      <td>ios</td>\n",
       "      <td>14.4.2</td>\n",
       "      <td>NaN</td>\n",
       "      <td>0</td>\n",
       "    </tr>\n",
       "    <tr>\n",
       "      <th>4</th>\n",
       "      <td>event</td>\n",
       "      <td>c1c08ba5c4aaef69d144959d3f2c7ec3</td>\n",
       "      <td>Kuwait City</td>\n",
       "      <td>Apple</td>\n",
       "      <td>nfv_add_to_cart</td>\n",
       "      <td>en</td>\n",
       "      <td>ios</td>\n",
       "      <td>14.3</td>\n",
       "      <td>NaN</td>\n",
       "      <td>183757</td>\n",
       "    </tr>\n",
       "  </tbody>\n",
       "</table>\n",
       "</div>"
      ],
      "text/plain": [
       "  activity_kind                              adid         city  \\\n",
       "0         event  563c7d548e7046a3935c8e9df5a57107       Manama   \n",
       "1         event  563c7d548e7046a3935c8e9df5a57107       Manama   \n",
       "2         event  563c7d548e7046a3935c8e9df5a57107       Manama   \n",
       "3         event  563c7d548e7046a3935c8e9df5a57107       Manama   \n",
       "4         event  c1c08ba5c4aaef69d144959d3f2c7ec3  Kuwait City   \n",
       "\n",
       "  device_manufacturer        event_name language os_name os_version  \\\n",
       "0               Apple            Launch       en     ios     14.4.2   \n",
       "1               Apple  View vendor List       en     ios     14.4.2   \n",
       "2               Apple  View vendor List       en     ios     14.4.2   \n",
       "3               Apple            Launch       en     ios     14.4.2   \n",
       "4               Apple   nfv_add_to_cart       en     ios       14.3   \n",
       "\n",
       "   revenue_usd_cents    time  \n",
       "0                NaN  181424  \n",
       "1                NaN  181454  \n",
       "2                NaN  181450  \n",
       "3                NaN       0  \n",
       "4                NaN  183757  "
      ]
     },
     "execution_count": 10,
     "metadata": {},
     "output_type": "execute_result"
    }
   ],
   "source": [
    "data.head()"
   ]
  },
  {
   "cell_type": "code",
   "execution_count": 11,
   "metadata": {},
   "outputs": [
    {
     "data": {
      "text/plain": [
       "1530695"
      ]
     },
     "execution_count": 11,
     "metadata": {},
     "output_type": "execute_result"
    }
   ],
   "source": [
    "len(data)"
   ]
  },
  {
   "cell_type": "markdown",
   "metadata": {},
   "source": [
    "# Data exploration"
   ]
  },
  {
   "cell_type": "markdown",
   "metadata": {},
   "source": [
    "Let's first look at the data"
   ]
  },
  {
   "cell_type": "code",
   "execution_count": 12,
   "metadata": {},
   "outputs": [
    {
     "data": {
      "text/plain": [
       "event      1441510\n",
       "session      88373\n",
       "install        812\n",
       "Name: activity_kind, dtype: int64"
      ]
     },
     "execution_count": 12,
     "metadata": {},
     "output_type": "execute_result"
    }
   ],
   "source": [
    "data['activity_kind'].value_counts()"
   ]
  },
  {
   "cell_type": "code",
   "execution_count": 13,
   "metadata": {},
   "outputs": [
    {
     "data": {
      "text/plain": [
       "View vendor List        838596\n",
       "View vendor             220815\n",
       "Add To Cart             162744\n",
       "Launch                  100675\n",
       "nfv_add_to_cart          41726\n",
       "Proceed to Checkout      40463\n",
       "Order                    32070\n",
       "view_deals                1207\n",
       "Order Rate                 756\n",
       "Voucher Rejected           612\n",
       "dwh_acquisition            573\n",
       "Social Log in              393\n",
       "Log in                     320\n",
       "Order with Voucher         234\n",
       "Real Acquisition           211\n",
       "Sign up                     97\n",
       "nfv_real_acquisition        14\n",
       "nfv_order                    4\n",
       "Name: event_name, dtype: int64"
      ]
     },
     "execution_count": 13,
     "metadata": {},
     "output_type": "execute_result"
    }
   ],
   "source": [
    "data['event_name'].value_counts()"
   ]
  },
  {
   "cell_type": "code",
   "execution_count": 14,
   "metadata": {
    "scrolled": true
   },
   "outputs": [
    {
     "data": {
      "text/plain": [
       "Kuwait City     556693\n",
       "Dubai           133880\n",
       "Doha            125642\n",
       "Muscat          122611\n",
       "Abu Dhabi        98153\n",
       "                 ...  \n",
       "Jacksonville         1\n",
       "Odenton              1\n",
       "Nuuk                 1\n",
       "Cainta               1\n",
       "Al Ansab             1\n",
       "Name: city, Length: 732, dtype: int64"
      ]
     },
     "execution_count": 14,
     "metadata": {},
     "output_type": "execute_result"
    }
   ],
   "source": [
    "data['city'].value_counts()"
   ]
  },
  {
   "cell_type": "code",
   "execution_count": 15,
   "metadata": {},
   "outputs": [
    {
     "data": {
      "text/plain": [
       "Apple    1530104\n",
       "Name: device_manufacturer, dtype: int64"
      ]
     },
     "execution_count": 15,
     "metadata": {},
     "output_type": "execute_result"
    }
   ],
   "source": [
    "data['device_manufacturer'].value_counts()"
   ]
  },
  {
   "cell_type": "code",
   "execution_count": 16,
   "metadata": {},
   "outputs": [
    {
     "data": {
      "text/plain": [
       "en    1529928\n",
       "ar        766\n",
       "zh          1\n",
       "Name: language, dtype: int64"
      ]
     },
     "execution_count": 16,
     "metadata": {},
     "output_type": "execute_result"
    }
   ],
   "source": [
    "data['language'].value_counts()"
   ]
  },
  {
   "cell_type": "code",
   "execution_count": 17,
   "metadata": {},
   "outputs": [
    {
     "data": {
      "text/plain": [
       "ios    1530695\n",
       "Name: os_name, dtype: int64"
      ]
     },
     "execution_count": 17,
     "metadata": {},
     "output_type": "execute_result"
    }
   ],
   "source": [
    "data['os_name'].value_counts()"
   ]
  },
  {
   "cell_type": "markdown",
   "metadata": {},
   "source": [
    "So, basically, 'os_name' and 'device_manufacturer' are useless"
   ]
  },
  {
   "cell_type": "code",
   "execution_count": 18,
   "metadata": {},
   "outputs": [],
   "source": [
    "data.drop(['device_manufacturer', 'os_name'], axis=1, inplace=True)"
   ]
  },
  {
   "cell_type": "code",
   "execution_count": 19,
   "metadata": {
    "scrolled": true
   },
   "outputs": [
    {
     "data": {
      "text/plain": [
       "14.4.2    687305\n",
       "14.5.1    235163\n",
       "14.6      149048\n",
       "14.4      108612\n",
       "14.4.1     67310\n",
       "           ...  \n",
       "10.0           3\n",
       "10.3           2\n",
       "11.2.0         2\n",
       "11.1.0         1\n",
       "9.3.5          1\n",
       "Name: os_version, Length: 113, dtype: int64"
      ]
     },
     "execution_count": 19,
     "metadata": {},
     "output_type": "execute_result"
    }
   ],
   "source": [
    "data['os_version'].value_counts()"
   ]
  },
  {
   "cell_type": "code",
   "execution_count": 20,
   "metadata": {},
   "outputs": [
    {
     "data": {
      "text/plain": [
       "count    32074.000000\n",
       "mean      1734.275587\n",
       "std       1422.664475\n",
       "min         14.104372\n",
       "25%        901.878892\n",
       "50%       1345.410913\n",
       "75%       2111.191643\n",
       "max      36621.261336\n",
       "Name: revenue_usd_cents, dtype: float64"
      ]
     },
     "execution_count": 20,
     "metadata": {},
     "output_type": "execute_result"
    }
   ],
   "source": [
    "data['revenue_usd_cents'].describe()"
   ]
  },
  {
   "cell_type": "code",
   "execution_count": 21,
   "metadata": {},
   "outputs": [
    {
     "data": {
      "text/plain": [
       "<matplotlib.axes._subplots.AxesSubplot at 0x7fb110813208>"
      ]
     },
     "execution_count": 21,
     "metadata": {},
     "output_type": "execute_result"
    },
    {
     "data": {
      "image/png": "[encoded data removed]",
      "text/plain": [
       "<Figure size 432x288 with 1 Axes>"
      ]
     },
     "metadata": {
      "needs_background": "light"
     },
     "output_type": "display_data"
    }
   ],
   "source": [
    "data[data['revenue_usd_cents'] < 15000]['revenue_usd_cents'].hist()"
   ]
  },
  {
   "cell_type": "code",
   "execution_count": 22,
   "metadata": {},
   "outputs": [
    {
     "data": {
      "text/html": [
       "<div>\n",
       "<style scoped>\n",
       "    .dataframe tbody tr th:only-of-type {\n",
       "        vertical-align: middle;\n",
       "    }\n",
       "\n",
       "    .dataframe tbody tr th {\n",
       "        vertical-align: top;\n",
       "    }\n",
       "\n",
       "    .dataframe thead th {\n",
       "        text-align: right;\n",
       "    }\n",
       "</style>\n",
       "<table border=\"1\" class=\"dataframe\">\n",
       "  <thead>\n",
       "    <tr style=\"text-align: right;\">\n",
       "      <th></th>\n",
       "      <th>activity_kind</th>\n",
       "      <th>adid</th>\n",
       "      <th>city</th>\n",
       "      <th>event_name</th>\n",
       "      <th>language</th>\n",
       "      <th>os_version</th>\n",
       "      <th>revenue_usd_cents</th>\n",
       "      <th>time</th>\n",
       "    </tr>\n",
       "  </thead>\n",
       "  <tbody>\n",
       "    <tr>\n",
       "      <th>248</th>\n",
       "      <td>event</td>\n",
       "      <td>758c1b288b7bd0c903614833ffeecf25</td>\n",
       "      <td>Dubai</td>\n",
       "      <td>Order</td>\n",
       "      <td>en</td>\n",
       "      <td>14.4.2</td>\n",
       "      <td>925.648635</td>\n",
       "      <td>419251</td>\n",
       "    </tr>\n",
       "    <tr>\n",
       "      <th>313</th>\n",
       "      <td>event</td>\n",
       "      <td>c9558ac278ffa382ecd09c9927b43e2a</td>\n",
       "      <td>Muscat</td>\n",
       "      <td>Order</td>\n",
       "      <td>en</td>\n",
       "      <td>14.4</td>\n",
       "      <td>545.457379</td>\n",
       "      <td>367928</td>\n",
       "    </tr>\n",
       "    <tr>\n",
       "      <th>341</th>\n",
       "      <td>event</td>\n",
       "      <td>5bd1e87f7b3bff1a305fb273c6d33ce9</td>\n",
       "      <td>Cairo</td>\n",
       "      <td>Order</td>\n",
       "      <td>en</td>\n",
       "      <td>14.4</td>\n",
       "      <td>467.082900</td>\n",
       "      <td>1604</td>\n",
       "    </tr>\n",
       "    <tr>\n",
       "      <th>350</th>\n",
       "      <td>event</td>\n",
       "      <td>5bd1e87f7b3bff1a305fb273c6d33ce9</td>\n",
       "      <td>Cairo</td>\n",
       "      <td>Order</td>\n",
       "      <td>en</td>\n",
       "      <td>14.4</td>\n",
       "      <td>348.976811</td>\n",
       "      <td>410258</td>\n",
       "    </tr>\n",
       "    <tr>\n",
       "      <th>357</th>\n",
       "      <td>event</td>\n",
       "      <td>53e269d154aacfeb40f81d8ba7b6beef</td>\n",
       "      <td>Kuwait City</td>\n",
       "      <td>Order</td>\n",
       "      <td>en</td>\n",
       "      <td>14.4.2</td>\n",
       "      <td>2244.269632</td>\n",
       "      <td>822</td>\n",
       "    </tr>\n",
       "  </tbody>\n",
       "</table>\n",
       "</div>"
      ],
      "text/plain": [
       "    activity_kind                              adid         city event_name  \\\n",
       "248         event  758c1b288b7bd0c903614833ffeecf25        Dubai      Order   \n",
       "313         event  c9558ac278ffa382ecd09c9927b43e2a       Muscat      Order   \n",
       "341         event  5bd1e87f7b3bff1a305fb273c6d33ce9        Cairo      Order   \n",
       "350         event  5bd1e87f7b3bff1a305fb273c6d33ce9        Cairo      Order   \n",
       "357         event  53e269d154aacfeb40f81d8ba7b6beef  Kuwait City      Order   \n",
       "\n",
       "    language os_version  revenue_usd_cents    time  \n",
       "248       en     14.4.2         925.648635  419251  \n",
       "313       en       14.4         545.457379  367928  \n",
       "341       en       14.4         467.082900    1604  \n",
       "350       en       14.4         348.976811  410258  \n",
       "357       en     14.4.2        2244.269632     822  "
      ]
     },
     "execution_count": 22,
     "metadata": {},
     "output_type": "execute_result"
    }
   ],
   "source": [
    "data[~data['revenue_usd_cents'].isna()].head()"
   ]
  },
  {
   "cell_type": "code",
   "execution_count": 23,
   "metadata": {},
   "outputs": [
    {
     "data": {
      "text/html": [
       "<div>\n",
       "<style scoped>\n",
       "    .dataframe tbody tr th:only-of-type {\n",
       "        vertical-align: middle;\n",
       "    }\n",
       "\n",
       "    .dataframe tbody tr th {\n",
       "        vertical-align: top;\n",
       "    }\n",
       "\n",
       "    .dataframe thead th {\n",
       "        text-align: right;\n",
       "    }\n",
       "</style>\n",
       "<table border=\"1\" class=\"dataframe\">\n",
       "  <thead>\n",
       "    <tr style=\"text-align: right;\">\n",
       "      <th></th>\n",
       "      <th>activity_kind</th>\n",
       "      <th>adid</th>\n",
       "      <th>city</th>\n",
       "      <th>event_name</th>\n",
       "      <th>language</th>\n",
       "      <th>os_version</th>\n",
       "      <th>revenue_usd_cents</th>\n",
       "      <th>time</th>\n",
       "    </tr>\n",
       "  </thead>\n",
       "  <tbody>\n",
       "    <tr>\n",
       "      <th>253</th>\n",
       "      <td>event</td>\n",
       "      <td>758c1b288b7bd0c903614833ffeecf25</td>\n",
       "      <td>Dubai</td>\n",
       "      <td>View vendor</td>\n",
       "      <td>en</td>\n",
       "      <td>14.4.2</td>\n",
       "      <td>NaN</td>\n",
       "      <td>0</td>\n",
       "    </tr>\n",
       "    <tr>\n",
       "      <th>251</th>\n",
       "      <td>event</td>\n",
       "      <td>758c1b288b7bd0c903614833ffeecf25</td>\n",
       "      <td>Dubai</td>\n",
       "      <td>View vendor List</td>\n",
       "      <td>en</td>\n",
       "      <td>14.4.2</td>\n",
       "      <td>NaN</td>\n",
       "      <td>6</td>\n",
       "    </tr>\n",
       "    <tr>\n",
       "      <th>249</th>\n",
       "      <td>event</td>\n",
       "      <td>758c1b288b7bd0c903614833ffeecf25</td>\n",
       "      <td>Dubai</td>\n",
       "      <td>View vendor List</td>\n",
       "      <td>en</td>\n",
       "      <td>14.4.2</td>\n",
       "      <td>NaN</td>\n",
       "      <td>65</td>\n",
       "    </tr>\n",
       "    <tr>\n",
       "      <th>252</th>\n",
       "      <td>event</td>\n",
       "      <td>758c1b288b7bd0c903614833ffeecf25</td>\n",
       "      <td>Dubai</td>\n",
       "      <td>View vendor</td>\n",
       "      <td>en</td>\n",
       "      <td>14.4.2</td>\n",
       "      <td>NaN</td>\n",
       "      <td>169</td>\n",
       "    </tr>\n",
       "    <tr>\n",
       "      <th>250</th>\n",
       "      <td>event</td>\n",
       "      <td>758c1b288b7bd0c903614833ffeecf25</td>\n",
       "      <td>Dubai</td>\n",
       "      <td>View vendor List</td>\n",
       "      <td>en</td>\n",
       "      <td>14.4.2</td>\n",
       "      <td>NaN</td>\n",
       "      <td>226</td>\n",
       "    </tr>\n",
       "    <tr>\n",
       "      <th>244</th>\n",
       "      <td>event</td>\n",
       "      <td>758c1b288b7bd0c903614833ffeecf25</td>\n",
       "      <td>Sharjah</td>\n",
       "      <td>View vendor List</td>\n",
       "      <td>en</td>\n",
       "      <td>14.4.2</td>\n",
       "      <td>NaN</td>\n",
       "      <td>185078</td>\n",
       "    </tr>\n",
       "    <tr>\n",
       "      <th>245</th>\n",
       "      <td>event</td>\n",
       "      <td>758c1b288b7bd0c903614833ffeecf25</td>\n",
       "      <td>Sharjah</td>\n",
       "      <td>Add To Cart</td>\n",
       "      <td>en</td>\n",
       "      <td>14.4.2</td>\n",
       "      <td>NaN</td>\n",
       "      <td>185095</td>\n",
       "    </tr>\n",
       "    <tr>\n",
       "      <th>247</th>\n",
       "      <td>event</td>\n",
       "      <td>758c1b288b7bd0c903614833ffeecf25</td>\n",
       "      <td>Dubai</td>\n",
       "      <td>View vendor List</td>\n",
       "      <td>en</td>\n",
       "      <td>14.4.2</td>\n",
       "      <td>NaN</td>\n",
       "      <td>419105</td>\n",
       "    </tr>\n",
       "    <tr>\n",
       "      <th>246</th>\n",
       "      <td>event</td>\n",
       "      <td>758c1b288b7bd0c903614833ffeecf25</td>\n",
       "      <td>Dubai</td>\n",
       "      <td>View vendor</td>\n",
       "      <td>en</td>\n",
       "      <td>14.4.2</td>\n",
       "      <td>NaN</td>\n",
       "      <td>419107</td>\n",
       "    </tr>\n",
       "    <tr>\n",
       "      <th>248</th>\n",
       "      <td>event</td>\n",
       "      <td>758c1b288b7bd0c903614833ffeecf25</td>\n",
       "      <td>Dubai</td>\n",
       "      <td>Order</td>\n",
       "      <td>en</td>\n",
       "      <td>14.4.2</td>\n",
       "      <td>925.648635</td>\n",
       "      <td>419251</td>\n",
       "    </tr>\n",
       "  </tbody>\n",
       "</table>\n",
       "</div>"
      ],
      "text/plain": [
       "    activity_kind                              adid     city  \\\n",
       "253         event  758c1b288b7bd0c903614833ffeecf25    Dubai   \n",
       "251         event  758c1b288b7bd0c903614833ffeecf25    Dubai   \n",
       "249         event  758c1b288b7bd0c903614833ffeecf25    Dubai   \n",
       "252         event  758c1b288b7bd0c903614833ffeecf25    Dubai   \n",
       "250         event  758c1b288b7bd0c903614833ffeecf25    Dubai   \n",
       "244         event  758c1b288b7bd0c903614833ffeecf25  Sharjah   \n",
       "245         event  758c1b288b7bd0c903614833ffeecf25  Sharjah   \n",
       "247         event  758c1b288b7bd0c903614833ffeecf25    Dubai   \n",
       "246         event  758c1b288b7bd0c903614833ffeecf25    Dubai   \n",
       "248         event  758c1b288b7bd0c903614833ffeecf25    Dubai   \n",
       "\n",
       "           event_name language os_version  revenue_usd_cents    time  \n",
       "253       View vendor       en     14.4.2                NaN       0  \n",
       "251  View vendor List       en     14.4.2                NaN       6  \n",
       "249  View vendor List       en     14.4.2                NaN      65  \n",
       "252       View vendor       en     14.4.2                NaN     169  \n",
       "250  View vendor List       en     14.4.2                NaN     226  \n",
       "244  View vendor List       en     14.4.2                NaN  185078  \n",
       "245       Add To Cart       en     14.4.2                NaN  185095  \n",
       "247  View vendor List       en     14.4.2                NaN  419105  \n",
       "246       View vendor       en     14.4.2                NaN  419107  \n",
       "248             Order       en     14.4.2         925.648635  419251  "
      ]
     },
     "execution_count": 23,
     "metadata": {},
     "output_type": "execute_result"
    }
   ],
   "source": [
    "data[data['adid']=='758c1b288b7bd0c903614833ffeecf25'].sort_values(by='time')"
   ]
  },
  {
   "cell_type": "markdown",
   "metadata": {},
   "source": [
    "# Feature engineering "
   ]
  },
  {
   "cell_type": "markdown",
   "metadata": {},
   "source": [
    "All features could be divided into 3 groups:\n",
    "    - money customer spent within first 24 hours (total amount, number of transactions, median transaction)\n",
    "    - ones related to customer's activity (how many events, was there install or not, how many sessions, what kind of events)\n",
    "    - personal data (city, language, os_version)"
   ]
  },
  {
   "cell_type": "code",
   "execution_count": 24,
   "metadata": {},
   "outputs": [],
   "source": [
    "features = pd.DataFrame(data.groupby('adid')['revenue_usd_cents'].sum()).rename(columns={\n",
    "    'revenue_usd_cents': '5day_value'})"
   ]
  },
  {
   "cell_type": "code",
   "execution_count": 25,
   "metadata": {},
   "outputs": [],
   "source": [
    "data_24 = data[data['time'] <= 24 * 60 * 60]"
   ]
  },
  {
   "cell_type": "code",
   "execution_count": 26,
   "metadata": {},
   "outputs": [],
   "source": [
    "features = features.merge(pd.DataFrame(data_24.groupby('adid')['revenue_usd_cents'].sum()).rename(columns={\n",
    "    'revenue_usd_cents': '24h_value'}), how='left', on='adid')"
   ]
  },
  {
   "cell_type": "code",
   "execution_count": 27,
   "metadata": {},
   "outputs": [],
   "source": [
    "features = features.merge(pd.DataFrame(data_24.groupby('adid')['revenue_usd_cents'].count()).rename(columns={\n",
    "    'revenue_usd_cents': 'transactions_cnt'}), how='left', on='adid')"
   ]
  },
  {
   "cell_type": "code",
   "execution_count": 28,
   "metadata": {},
   "outputs": [],
   "source": [
    "features = features.merge(pd.DataFrame(data_24.groupby('adid')['revenue_usd_cents'].median()).rename(columns={\n",
    "    'revenue_usd_cents': 'median_transaction'}).fillna(value=0), how='left', on='adid')"
   ]
  },
  {
   "cell_type": "code",
   "execution_count": 29,
   "metadata": {
    "scrolled": true
   },
   "outputs": [],
   "source": [
    "tmp = pd.pivot_table(pd.DataFrame(data_24.groupby(['adid', 'activity_kind'])['time'].count()), \n",
    "                     values='time', index='adid', columns='activity_kind')\n",
    "tmp = tmp.fillna(value=0).rename(columns={'event' : 'event_cnt', 'install' : 'install_cnt', 'session': 'session_cnt'})\n",
    "features = features.merge(tmp, how='left', on='adid')"
   ]
  },
  {
   "cell_type": "code",
   "execution_count": 30,
   "metadata": {},
   "outputs": [],
   "source": [
    "tmp = pd.pivot_table(pd.DataFrame(data_24.groupby(['adid', 'event_name'])['time'].count()), \n",
    "               values='time', index='adid', columns='event_name').fillna(value=0.)\n",
    "features = features.merge(tmp, how='left', on='adid').fillna(value=0.)"
   ]
  },
  {
   "cell_type": "code",
   "execution_count": 31,
   "metadata": {},
   "outputs": [],
   "source": [
    "from sklearn.preprocessing import OneHotEncoder\n",
    "enc = OneHotEncoder(handle_unknown='ignore')"
   ]
  },
  {
   "cell_type": "code",
   "execution_count": 32,
   "metadata": {},
   "outputs": [],
   "source": [
    "tmp = data_24[data_24['time']==0][['adid', 'language', 'os_version']].drop_duplicates()\n",
    "tmp = pd.concat([tmp.reset_index().drop('index', axis=1), \n",
    "           pd.DataFrame(enc.fit_transform(tmp[['language', 'os_version']]).toarray())], \n",
    "          axis=1).drop(['language', 'os_version'], axis=1)\n",
    "features = features.merge(tmp, how='left', on='adid')"
   ]
  },
  {
   "cell_type": "code",
   "execution_count": 33,
   "metadata": {},
   "outputs": [
    {
     "data": {
      "text/html": [
       "<div>\n",
       "<style scoped>\n",
       "    .dataframe tbody tr th:only-of-type {\n",
       "        vertical-align: middle;\n",
       "    }\n",
       "\n",
       "    .dataframe tbody tr th {\n",
       "        vertical-align: top;\n",
       "    }\n",
       "\n",
       "    .dataframe thead th {\n",
       "        text-align: right;\n",
       "    }\n",
       "</style>\n",
       "<table border=\"1\" class=\"dataframe\">\n",
       "  <thead>\n",
       "    <tr style=\"text-align: right;\">\n",
       "      <th></th>\n",
       "      <th>adid</th>\n",
       "      <th>5day_value</th>\n",
       "      <th>24h_value</th>\n",
       "      <th>transactions_cnt</th>\n",
       "      <th>median_transaction</th>\n",
       "      <th>event_cnt</th>\n",
       "      <th>install_cnt</th>\n",
       "      <th>session_cnt</th>\n",
       "      <th>Add To Cart</th>\n",
       "      <th>Launch</th>\n",
       "      <th>...</th>\n",
       "      <th>106</th>\n",
       "      <th>107</th>\n",
       "      <th>108</th>\n",
       "      <th>109</th>\n",
       "      <th>110</th>\n",
       "      <th>111</th>\n",
       "      <th>112</th>\n",
       "      <th>113</th>\n",
       "      <th>114</th>\n",
       "      <th>115</th>\n",
       "    </tr>\n",
       "  </thead>\n",
       "  <tbody>\n",
       "    <tr>\n",
       "      <th>0</th>\n",
       "      <td>000014387109f8de9b5ccfb55257a0ae</td>\n",
       "      <td>1130.446926</td>\n",
       "      <td>1130.446926</td>\n",
       "      <td>1</td>\n",
       "      <td>1130.446926</td>\n",
       "      <td>2.0</td>\n",
       "      <td>0.0</td>\n",
       "      <td>0.0</td>\n",
       "      <td>0.0</td>\n",
       "      <td>1.0</td>\n",
       "      <td>...</td>\n",
       "      <td>0.0</td>\n",
       "      <td>1.0</td>\n",
       "      <td>0.0</td>\n",
       "      <td>0.0</td>\n",
       "      <td>0.0</td>\n",
       "      <td>0.0</td>\n",
       "      <td>0.0</td>\n",
       "      <td>0.0</td>\n",
       "      <td>0.0</td>\n",
       "      <td>0.0</td>\n",
       "    </tr>\n",
       "    <tr>\n",
       "      <th>1</th>\n",
       "      <td>0000414b1f6f8e8f22bdc6a68e022783</td>\n",
       "      <td>0.000000</td>\n",
       "      <td>0.000000</td>\n",
       "      <td>0</td>\n",
       "      <td>0.000000</td>\n",
       "      <td>1.0</td>\n",
       "      <td>0.0</td>\n",
       "      <td>0.0</td>\n",
       "      <td>0.0</td>\n",
       "      <td>1.0</td>\n",
       "      <td>...</td>\n",
       "      <td>0.0</td>\n",
       "      <td>0.0</td>\n",
       "      <td>0.0</td>\n",
       "      <td>0.0</td>\n",
       "      <td>0.0</td>\n",
       "      <td>0.0</td>\n",
       "      <td>0.0</td>\n",
       "      <td>0.0</td>\n",
       "      <td>0.0</td>\n",
       "      <td>0.0</td>\n",
       "    </tr>\n",
       "    <tr>\n",
       "      <th>2</th>\n",
       "      <td>000048a949a8c10e5f6e00f67d429d11</td>\n",
       "      <td>0.000000</td>\n",
       "      <td>0.000000</td>\n",
       "      <td>0</td>\n",
       "      <td>0.000000</td>\n",
       "      <td>1.0</td>\n",
       "      <td>0.0</td>\n",
       "      <td>0.0</td>\n",
       "      <td>1.0</td>\n",
       "      <td>0.0</td>\n",
       "      <td>...</td>\n",
       "      <td>0.0</td>\n",
       "      <td>1.0</td>\n",
       "      <td>0.0</td>\n",
       "      <td>0.0</td>\n",
       "      <td>0.0</td>\n",
       "      <td>0.0</td>\n",
       "      <td>0.0</td>\n",
       "      <td>0.0</td>\n",
       "      <td>0.0</td>\n",
       "      <td>0.0</td>\n",
       "    </tr>\n",
       "    <tr>\n",
       "      <th>3</th>\n",
       "      <td>0000e564a5b09490c99dd483f99f6beb</td>\n",
       "      <td>0.000000</td>\n",
       "      <td>0.000000</td>\n",
       "      <td>0</td>\n",
       "      <td>0.000000</td>\n",
       "      <td>16.0</td>\n",
       "      <td>0.0</td>\n",
       "      <td>0.0</td>\n",
       "      <td>0.0</td>\n",
       "      <td>0.0</td>\n",
       "      <td>...</td>\n",
       "      <td>0.0</td>\n",
       "      <td>1.0</td>\n",
       "      <td>0.0</td>\n",
       "      <td>0.0</td>\n",
       "      <td>0.0</td>\n",
       "      <td>0.0</td>\n",
       "      <td>0.0</td>\n",
       "      <td>0.0</td>\n",
       "      <td>0.0</td>\n",
       "      <td>0.0</td>\n",
       "    </tr>\n",
       "    <tr>\n",
       "      <th>4</th>\n",
       "      <td>000106996f68f882425af6a4e1af1113</td>\n",
       "      <td>162.200282</td>\n",
       "      <td>162.200282</td>\n",
       "      <td>1</td>\n",
       "      <td>162.200282</td>\n",
       "      <td>3.0</td>\n",
       "      <td>0.0</td>\n",
       "      <td>0.0</td>\n",
       "      <td>1.0</td>\n",
       "      <td>0.0</td>\n",
       "      <td>...</td>\n",
       "      <td>0.0</td>\n",
       "      <td>0.0</td>\n",
       "      <td>0.0</td>\n",
       "      <td>0.0</td>\n",
       "      <td>0.0</td>\n",
       "      <td>1.0</td>\n",
       "      <td>0.0</td>\n",
       "      <td>0.0</td>\n",
       "      <td>0.0</td>\n",
       "      <td>0.0</td>\n",
       "    </tr>\n",
       "  </tbody>\n",
       "</table>\n",
       "<p>5 rows × 141 columns</p>\n",
       "</div>"
      ],
      "text/plain": [
       "                               adid   5day_value    24h_value  \\\n",
       "0  000014387109f8de9b5ccfb55257a0ae  1130.446926  1130.446926   \n",
       "1  0000414b1f6f8e8f22bdc6a68e022783     0.000000     0.000000   \n",
       "2  000048a949a8c10e5f6e00f67d429d11     0.000000     0.000000   \n",
       "3  0000e564a5b09490c99dd483f99f6beb     0.000000     0.000000   \n",
       "4  000106996f68f882425af6a4e1af1113   162.200282   162.200282   \n",
       "\n",
       "   transactions_cnt  median_transaction  event_cnt  install_cnt  session_cnt  \\\n",
       "0                 1         1130.446926        2.0          0.0          0.0   \n",
       "1                 0            0.000000        1.0          0.0          0.0   \n",
       "2                 0            0.000000        1.0          0.0          0.0   \n",
       "3                 0            0.000000       16.0          0.0          0.0   \n",
       "4                 1          162.200282        3.0          0.0          0.0   \n",
       "\n",
       "   Add To Cart  Launch  ...  106  107  108  109  110  111  112  113  114  115  \n",
       "0          0.0     1.0  ...  0.0  1.0  0.0  0.0  0.0  0.0  0.0  0.0  0.0  0.0  \n",
       "1          0.0     1.0  ...  0.0  0.0  0.0  0.0  0.0  0.0  0.0  0.0  0.0  0.0  \n",
       "2          1.0     0.0  ...  0.0  1.0  0.0  0.0  0.0  0.0  0.0  0.0  0.0  0.0  \n",
       "3          0.0     0.0  ...  0.0  1.0  0.0  0.0  0.0  0.0  0.0  0.0  0.0  0.0  \n",
       "4          1.0     0.0  ...  0.0  0.0  0.0  0.0  0.0  1.0  0.0  0.0  0.0  0.0  \n",
       "\n",
       "[5 rows x 141 columns]"
      ]
     },
     "execution_count": 33,
     "metadata": {},
     "output_type": "execute_result"
    }
   ],
   "source": [
    "features.head()"
   ]
  },
  {
   "cell_type": "code",
   "execution_count": 34,
   "metadata": {},
   "outputs": [],
   "source": [
    "X = features[features.columns[2:]].values\n",
    "y = features['5day_value'].values"
   ]
  },
  {
   "cell_type": "code",
   "execution_count": 35,
   "metadata": {},
   "outputs": [
    {
     "data": {
      "text/plain": [
       "330506"
      ]
     },
     "execution_count": 35,
     "metadata": {},
     "output_type": "execute_result"
    }
   ],
   "source": [
    "len(X)"
   ]
  },
  {
   "cell_type": "markdown",
   "metadata": {},
   "source": [
    "# Model training and validation"
   ]
  },
  {
   "cell_type": "code",
   "execution_count": 36,
   "metadata": {},
   "outputs": [],
   "source": [
    "from sklearn.model_selection import train_test_split\n",
    "X_train, X_test, y_train, y_test = train_test_split(X, y, test_size=0.33, random_state=42)"
   ]
  },
  {
   "cell_type": "markdown",
   "metadata": {},
   "source": [
    "We'll use RMSE and $R^2$ to evaluate our models"
   ]
  },
  {
   "cell_type": "code",
   "execution_count": 37,
   "metadata": {},
   "outputs": [],
   "source": [
    "from sklearn.metrics import r2_score\n",
    "from sklearn.metrics import mean_squared_error\n",
    "from math import sqrt\n",
    "from sklearn import preprocessing"
   ]
  },
  {
   "cell_type": "markdown",
   "metadata": {},
   "source": [
    "Let's look how 5 day value depends on 24h value"
   ]
  },
  {
   "cell_type": "code",
   "execution_count": 224,
   "metadata": {},
   "outputs": [
    {
     "data": {
      "text/plain": [
       "Text(0.5, 1.0, 'Dependence between 5 days and 24 hours values on train set')"
      ]
     },
     "execution_count": 224,
     "metadata": {},
     "output_type": "execute_result"
    },
    {
     "data": {
      "image/png": "[encoded data removed]",
      "text/plain": [
       "<Figure size 1080x432 with 1 Axes>"
      ]
     },
     "metadata": {
      "needs_background": "light"
     },
     "output_type": "display_data"
    }
   ],
   "source": [
    "plt.figure(figsize=(15, 6))\n",
    "plt.scatter(features['24h_value'].values, features['5day_value'].values)\n",
    "plt.xlabel('24 hours value')\n",
    "plt.ylabel('5 days value')\n",
    "plt.title('Dependence between 5 days and 24 hours values on train set')"
   ]
  },
  {
   "cell_type": "code",
   "execution_count": 39,
   "metadata": {},
   "outputs": [
    {
     "data": {
      "text/plain": [
       "<matplotlib.collections.PathCollection at 0x7faff623e630>"
      ]
     },
     "execution_count": 39,
     "metadata": {},
     "output_type": "execute_result"
    },
    {
     "data": {
      "image/png": "[encoded data removed]",
      "text/plain": [
       "<Figure size 1080x432 with 1 Axes>"
      ]
     },
     "metadata": {
      "needs_background": "light"
     },
     "output_type": "display_data"
    }
   ],
   "source": [
    "plt.figure(figsize=(15, 6))\n",
    "tmp = features[features['24h_value'] > 0.]\n",
    "plt.scatter(tmp['24h_value'].values, tmp['5day_value'].values)"
   ]
  },
  {
   "cell_type": "markdown",
   "metadata": {},
   "source": [
    "We can see that there are a lot of customers who didn't buy anything else after first 24 hours. So we'll try linear regression first"
   ]
  },
  {
   "cell_type": "markdown",
   "metadata": {},
   "source": [
    "## Linear regression"
   ]
  },
  {
   "cell_type": "code",
   "execution_count": 53,
   "metadata": {},
   "outputs": [],
   "source": [
    "# scaler = preprocessing.StandardScaler().fit(X_train)\n",
    "# scaler = preprocessing.MinMaxScaler().fit(X_train)"
   ]
  },
  {
   "cell_type": "code",
   "execution_count": 246,
   "metadata": {},
   "outputs": [],
   "source": [
    "from sklearn.linear_model import Ridge\n",
    "reg = Ridge(alpha=1000.).fit(X_train, y_train)"
   ]
  },
  {
   "cell_type": "code",
   "execution_count": 247,
   "metadata": {},
   "outputs": [
    {
     "name": "stdout",
     "output_type": "stream",
     "text": [
      "R^2: 0.617044382169468 RMSE: 452.5494867456751\n"
     ]
    }
   ],
   "source": [
    "a = y_train\n",
    "b = reg.predict(X_train).clip(min=0)\n",
    "print('R^2:', r2_score(a, b), 'RMSE:', sqrt(mean_squared_error(a, b)))"
   ]
  },
  {
   "cell_type": "code",
   "execution_count": 248,
   "metadata": {},
   "outputs": [
    {
     "data": {
      "text/plain": [
       "<matplotlib.legend.Legend at 0x7fafb27d4080>"
      ]
     },
     "execution_count": 248,
     "metadata": {},
     "output_type": "execute_result"
    },
    {
     "data": {
      "image/png": "[encoded data removed]",
      "text/plain": [
       "<Figure size 1080x432 with 1 Axes>"
      ]
     },
     "metadata": {
      "needs_background": "light"
     },
     "output_type": "display_data"
    }
   ],
   "source": [
    "plt.figure(figsize=(15, 6))\n",
    "plt.scatter(X_train[:, 0], a, label='true')\n",
    "plt.scatter(X_train[:, 0], b, label='predicted')\n",
    "plt.xlabel('24 hours value')\n",
    "plt.ylabel('5 days value')\n",
    "plt.title('Dependence between 5 days and 24 hours values on train set, Linear regression with L2 regularization')\n",
    "plt.legend()"
   ]
  },
  {
   "cell_type": "markdown",
   "metadata": {},
   "source": [
    "As we can see it doesn't work for other customers at all. Let's try boosting to find non-linear dependencies"
   ]
  },
  {
   "cell_type": "markdown",
   "metadata": {},
   "source": [
    "## Boosting"
   ]
  },
  {
   "cell_type": "code",
   "execution_count": 200,
   "metadata": {},
   "outputs": [],
   "source": [
    "from xgboost.sklearn import XGBRegressor"
   ]
  },
  {
   "cell_type": "markdown",
   "metadata": {},
   "source": [
    "Let's find optimal number of estimators"
   ]
  },
  {
   "cell_type": "code",
   "execution_count": 192,
   "metadata": {},
   "outputs": [],
   "source": [
    "estimators = [10, 20, 50, 70, 100, 150, 200]\n",
    "training_r2, test_r2, training_rmse, test_rmse = [], [], [], []\n",
    "\n",
    "scaler = preprocessing.StandardScaler().fit(X_train)\n",
    "#customers who made other purchases after 24h are particularly interesting, so we weight them more\n",
    "weight = np.ones(len(X_train)) + (y_train > X_train[:, 0]) * 1.0\n",
    "\n",
    "for estimator in estimators:\n",
    "    reg = XGBRegressor(n_estimators=estimator).fit(scaler.transform(X_train), y_train, sample_weight=weight)\n",
    "    \n",
    "    a = y_train\n",
    "    b = reg.predict(scaler.transform(X_train)).clip(min=0)\n",
    "    training_r2.append(r2_score(a, b))\n",
    "    training_rmse.append(sqrt(mean_squared_error(a, b)))\n",
    "\n",
    "    a = y_test\n",
    "    b = reg.predict(scaler.transform(X_test)).clip(min=0)\n",
    "    test_r2.append(r2_score(a, b))\n",
    "    test_rmse.append(sqrt(mean_squared_error(a, b)))"
   ]
  },
  {
   "cell_type": "code",
   "execution_count": 207,
   "metadata": {},
   "outputs": [
    {
     "data": {
      "text/plain": [
       "<matplotlib.legend.Legend at 0x7faf24568630>"
      ]
     },
     "execution_count": 207,
     "metadata": {},
     "output_type": "execute_result"
    },
    {
     "data": {
      "image/png": "[encoded data removed]",
      "text/plain": [
       "<Figure size 1080x432 with 1 Axes>"
      ]
     },
     "metadata": {
      "needs_background": "light"
     },
     "output_type": "display_data"
    }
   ],
   "source": [
    "plt.figure(figsize=(15, 6))\n",
    "plt.plot(estimators, training_r2, label='training')\n",
    "plt.plot(estimators, test_r2, label='test')\n",
    "plt.xlabel('Number of estimators in Xgboost')\n",
    "plt.ylabel('R^2')\n",
    "plt.title('R^2 for different number of estimators')\n",
    "plt.legend()"
   ]
  },
  {
   "cell_type": "code",
   "execution_count": 208,
   "metadata": {
    "scrolled": false
   },
   "outputs": [
    {
     "data": {
      "text/plain": [
       "<matplotlib.legend.Legend at 0x7faf2453b6d8>"
      ]
     },
     "execution_count": 208,
     "metadata": {},
     "output_type": "execute_result"
    },
    {
     "data": {
      "image/png": "[encoded data removed]",
      "text/plain": [
       "<Figure size 1080x432 with 1 Axes>"
      ]
     },
     "metadata": {
      "needs_background": "light"
     },
     "output_type": "display_data"
    }
   ],
   "source": [
    "plt.figure(figsize=(15, 6))\n",
    "plt.plot(estimators, training_rmse, label='training')\n",
    "plt.plot(estimators, test_rmse, label='test')\n",
    "plt.xlabel('Number of estimators in Xgboost')\n",
    "plt.ylabel('RMSE')\n",
    "plt.title('RMSE for different number of estimators')\n",
    "plt.legend()"
   ]
  },
  {
   "cell_type": "markdown",
   "metadata": {},
   "source": [
    "So, we choose 25 estimators"
   ]
  },
  {
   "cell_type": "code",
   "execution_count": 219,
   "metadata": {},
   "outputs": [],
   "source": [
    "weight = np.ones(len(X_train)) + (y_train > X_train[:, 0]) * 1.0\n",
    "scaler = preprocessing.StandardScaler().fit(X_train)\n",
    "reg = XGBRegressor(n_estimators=25).fit(scaler.transform(X_train), y_train, sample_weight=weight)"
   ]
  },
  {
   "cell_type": "code",
   "execution_count": 220,
   "metadata": {},
   "outputs": [
    {
     "name": "stdout",
     "output_type": "stream",
     "text": [
      "R^2: 0.6893144127929618 RMSE: 407.6171119438182\n"
     ]
    }
   ],
   "source": [
    "a = y_train\n",
    "b = reg.predict(scaler.transform(X_train)).clip(min=0)\n",
    "print('R^2:', r2_score(a, b), 'RMSE:', sqrt(mean_squared_error(a, b)))"
   ]
  },
  {
   "cell_type": "code",
   "execution_count": 216,
   "metadata": {
    "scrolled": false
   },
   "outputs": [
    {
     "data": {
      "text/plain": [
       "<matplotlib.legend.Legend at 0x7faf25176a20>"
      ]
     },
     "execution_count": 216,
     "metadata": {},
     "output_type": "execute_result"
    },
    {
     "data": {
      "image/png": "[encoded data removed]",
      "text/plain": [
       "<Figure size 1080x432 with 1 Axes>"
      ]
     },
     "metadata": {
      "needs_background": "light"
     },
     "output_type": "display_data"
    }
   ],
   "source": [
    "plt.figure(figsize=(15, 6))\n",
    "plt.scatter(X_train[:, 0], a, label='true')\n",
    "plt.scatter(X_train[:, 0], b, label='predicted')\n",
    "plt.xlabel('24 hours value')\n",
    "plt.ylabel('5 days value')\n",
    "plt.title('Dependence between 5 days and 24 hours values on train set')\n",
    "plt.legend()"
   ]
  },
  {
   "cell_type": "code",
   "execution_count": 221,
   "metadata": {},
   "outputs": [
    {
     "name": "stdout",
     "output_type": "stream",
     "text": [
      "R^2: 0.6584464888172972 RMSE: 414.9924195695419\n"
     ]
    }
   ],
   "source": [
    "a = y_test\n",
    "b = reg.predict(scaler.transform(X_test)).clip(min=0)\n",
    "print('R^2:', r2_score(a, b), 'RMSE:', sqrt(mean_squared_error(a, b)))"
   ]
  },
  {
   "cell_type": "code",
   "execution_count": 222,
   "metadata": {
    "scrolled": false
   },
   "outputs": [
    {
     "data": {
      "text/plain": [
       "<matplotlib.legend.Legend at 0x7faf277df278>"
      ]
     },
     "execution_count": 222,
     "metadata": {},
     "output_type": "execute_result"
    },
    {
     "data": {
      "image/png": "[encoded data removed]",
      "text/plain": [
       "<Figure size 1080x432 with 1 Axes>"
      ]
     },
     "metadata": {
      "needs_background": "light"
     },
     "output_type": "display_data"
    }
   ],
   "source": [
    "plt.figure(figsize=(15, 6))\n",
    "plt.scatter(X_test[:, 0], a, label='true')\n",
    "plt.scatter(X_test[:, 0], b, label='predicted')\n",
    "plt.xlabel('24 hours value')\n",
    "plt.ylabel('5 days value')\n",
    "plt.title('Dependence between 5 days and 24 hours values on test set')\n",
    "plt.legend()"
   ]
  },
  {
   "cell_type": "markdown",
   "metadata": {},
   "source": [
    "# Conclusion"
   ]
  },
  {
   "cell_type": "markdown",
   "metadata": {},
   "source": [
    "Xgboost works well for customers who didn't buy much more in next four days than in the first 24 hours, but it doesn't work in other cases. Overall, RMSE is $4\\$$ when median non-zero value is $13\\$$ which looks pretty good.\n",
    "\n",
    "I tried Kernel Ridge Regression and SVM, but both of them require too much RAM for such a big dataset so I didn't manage to run it.\n",
    "\n",
    "I also tried to divide all customers into two groups: those who bought something in 24 hours and those who didn't, and predicted value for those groups separately (although second group didn't by anything in 24 hours, they made biggest purchases, so maybe they behave differently). But results were worse.\n",
    "\n",
    "As alternative I would also try some neural networks, maybe it will better capture nonlinear dependencies, but need more time for that."
   ]
  }
 ],
 "metadata": {
  "kernelspec": {
   "display_name": "Python 3",
   "language": "python",
   "name": "python3"
  },
  "language_info": {
   "codemirror_mode": {
    "name": "ipython",
    "version": 3
   },
   "file_extension": ".py",
   "mimetype": "text/x-python",
   "name": "python",
   "nbconvert_exporter": "python",
   "pygments_lexer": "ipython3",
   "version": "3.6.10"
  }
 },
 "nbformat": 4,
 "nbformat_minor": 4
}
